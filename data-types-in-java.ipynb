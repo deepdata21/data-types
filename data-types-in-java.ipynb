{
 "cells": [
  {
   "cell_type": "markdown",
   "id": "3c7def2c",
   "metadata": {
    "_cell_guid": "b1076dfc-b9ad-4769-8c92-a6c4dae69d19",
    "_uuid": "8f2839f25d086af736a60e9eeb907d3b93b6e0e5",
    "papermill": {
     "duration": 0.00426,
     "end_time": "2022-04-14T21:21:03.308526",
     "exception": false,
     "start_time": "2022-04-14T21:21:03.304266",
     "status": "completed"
    },
    "tags": []
   },
   "source": [
    "\n",
    "| Data Type   | Size      | p/r           | Value                                                    |\n",
    "|-------------|-----------|---------------|----------------------------------------------------------|\n",
    "| **boolean** | `1` bit   | p (Primitive) | `True` or `False`                                        |\n",
    "| byte        | `1` byte  | p             | `-128` to `127`                                          |\n",
    "| short       | `2` bytes | p             | `-32,768` to `32,768`                                    |\n",
    "| **int**     | `4` bytes | p             | `-2 billion` to `2 billion`                              |\n",
    "| long        | `8` bytes | p             | `-9 quintillion` to `9 quintillion`                      |\n",
    "| float       | `4` bytes | p             | Fractional number up to 6-7 digits [ `2.718281f` ]       |\n",
    "| **double**  | `8` bytes | p             | Fractional number up to 15 digits [ `2.71828182845904` ] |\n",
    "| **char**    | `2` bytes | p             | Single character/letter/ASCII value [ `a` ]              |\n",
    "| **string**  | varies  | r (Reference)   | A sequence of characters [ `\"Carpe diem\"` ]              |\n",
    "\n",
    "---\n",
    "\n",
    "- Primitive vs. Reference Data Types\n",
    "| **Primitive**      | **Reference**              |\n",
    "|--------------------|----------------------------|\n",
    "| Eight (8) types    | Unlimited and user defined |\n",
    "|                    |                            |\n",
    "| Stores data        | Stores and address         |\n",
    "|                    |                            |\n",
    "| Holds only 1 value | Holds more than one value  |\n",
    "|                    |                            |\n",
    "| Needs less memory  | Needs more memory          |\n",
    "|                    |                            |\n",
    "| Faster             | Slower                     |"
   ]
  },
  {
   "cell_type": "code",
   "execution_count": null,
   "id": "3f5559ec",
   "metadata": {
    "papermill": {
     "duration": 0.00284,
     "end_time": "2022-04-14T21:21:03.314475",
     "exception": false,
     "start_time": "2022-04-14T21:21:03.311635",
     "status": "completed"
    },
    "tags": []
   },
   "outputs": [],
   "source": []
  }
 ],
 "metadata": {
  "kernelspec": {
   "display_name": "Python 3",
   "language": "python",
   "name": "python3"
  },
  "language_info": {
   "codemirror_mode": {
    "name": "ipython",
    "version": 3
   },
   "file_extension": ".py",
   "mimetype": "text/x-python",
   "name": "python",
   "nbconvert_exporter": "python",
   "pygments_lexer": "ipython3",
   "version": "3.7.12"
  },
  "papermill": {
   "default_parameters": {},
   "duration": 10.291328,
   "end_time": "2022-04-14T21:21:03.941493",
   "environment_variables": {},
   "exception": null,
   "input_path": "__notebook__.ipynb",
   "output_path": "__notebook__.ipynb",
   "parameters": {},
   "start_time": "2022-04-14T21:20:53.650165",
   "version": "2.3.4"
  }
 },
 "nbformat": 4,
 "nbformat_minor": 5
}
