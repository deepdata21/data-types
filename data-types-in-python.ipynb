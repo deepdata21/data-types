{
 "cells": [
  {
   "cell_type": "markdown",
   "id": "2cf4dd94",
   "metadata": {
    "papermill": {
     "duration": 0.005069,
     "end_time": "2022-04-14T20:38:39.221618",
     "exception": false,
     "start_time": "2022-04-14T20:38:39.216549",
     "status": "completed"
    },
    "tags": []
   },
   "source": [
    " # Data Types in Python\n",
    " ---"
   ]
  },
  {
   "cell_type": "markdown",
   "id": "0bdcc643",
   "metadata": {
    "papermill": {
     "duration": 0.003668,
     "end_time": "2022-04-14T20:38:39.229385",
     "exception": false,
     "start_time": "2022-04-14T20:38:39.225717",
     "status": "completed"
    },
    "tags": []
   },
   "source": [
    "|  # | Data Type Group | Data Type                                                 |\n",
    "|----|-----------------|-----------------------------------------------------------|\n",
    "| 01 | **1. Numeric**  | **Integer [ `int(<value>)` ]**                            |\n",
    "|    |                 | <code>> print(type(9))</code>                             |\n",
    "|    |                 | **NOTE**: Character length depends on device memory.      |\n",
    "|    |                 | &nbsp; &ensp; &ensp; &emsp; Unlimited precision.          |\n",
    "|    |                 |                                                           |\n",
    "| 02 | **1. Numeric**  | **Floating [ `float(<value>)` ]**                         |\n",
    "|    |                 | `> print(type(9.))`                                       |\n",
    "|    |                 |                                                           |\n",
    "| 03 | **1. Numeric**  | **Complex [ `complex(<value>)` ]**                        |\n",
    "|    |                 | `> print(type(9+0j))`                                     |\n",
    "|    |                 |                                                           |\n",
    "| 04 | **2. Boolean**  | **Boolean [ `bool(<value>)` ]**                           |\n",
    "|    |                 | `> print(type(True))`                                     |\n",
    "|    |                 |                                                           |\n",
    "| 05 | **3. Set**      | **Set [ `set((<value>, <value>))` ]**                     |\n",
    "|    |                 | `> print(type({9}))`                                      |\n",
    "|    |                 |                                                           |\n",
    "| 06 | **4. Mapping**  | **Dictionary [ `dict((<key>=<value>, <key>=<value>))` ]** |\n",
    "|    |                 | `> print(type({9:9}))`                                    |\n",
    "|    |                 |                                                           |\n",
    "| 07 | **5. Sequence** | **String [ `str(<value>)` ]**                             |\n",
    "|    |                 | `> print(type(\"9\"))`                                      |\n",
    "|    |                 |                                                           |\n",
    "| 08 | **5. Sequence** | **List [ `list((<value>, <value>))` ]**                   |\n",
    "|    |                 | `> print(type([9]))`                                      |\n",
    "|    |                 |                                                           |\n",
    "| 09 | **5. Sequence** | **Tuple [ `tuple((<value>, <value>))` ]**                 |\n",
    "|    |                 | `> print(type((9,)))`                                     |"
   ]
  },
  {
   "cell_type": "markdown",
   "id": "7c783014",
   "metadata": {
    "papermill": {
     "duration": 0.003578,
     "end_time": "2022-04-14T20:38:39.236945",
     "exception": false,
     "start_time": "2022-04-14T20:38:39.233367",
     "status": "completed"
    },
    "tags": []
   },
   "source": []
  },
  {
   "cell_type": "markdown",
   "id": "b9ed575f",
   "metadata": {
    "papermill": {
     "duration": 0.003569,
     "end_time": "2022-04-14T20:38:39.244371",
     "exception": false,
     "start_time": "2022-04-14T20:38:39.240802",
     "status": "completed"
    },
    "tags": []
   },
   "source": []
  }
 ],
 "metadata": {
  "kernelspec": {
   "display_name": "Python 3",
   "language": "python",
   "name": "python3"
  },
  "language_info": {
   "codemirror_mode": {
    "name": "ipython",
    "version": 3
   },
   "file_extension": ".py",
   "mimetype": "text/x-python",
   "name": "python",
   "nbconvert_exporter": "python",
   "pygments_lexer": "ipython3",
   "version": "3.7.12"
  },
  "papermill": {
   "default_parameters": {},
   "duration": 10.866647,
   "end_time": "2022-04-14T20:38:39.871629",
   "environment_variables": {},
   "exception": null,
   "input_path": "__notebook__.ipynb",
   "output_path": "__notebook__.ipynb",
   "parameters": {},
   "start_time": "2022-04-14T20:38:29.004982",
   "version": "2.3.4"
  }
 },
 "nbformat": 4,
 "nbformat_minor": 5
}
